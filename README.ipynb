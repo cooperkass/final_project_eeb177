{
 "cells": [
  {
   "cell_type": "markdown",
   "metadata": {},
   "source": [
    "# Pseducode for File Input-Output\n",
    "\n",
    "## 1. Create comma separated file in text editor with four columns: *1) Species Name, 2) Extant or Extinct, 3) Minimum Age, 4) Maximum Age*\n",
    "\n",
    "## 2. Write manipulated data into correct columns in file\n",
    "\n",
    "## 3. Use an automated function in R to extract fossil occurrence data from PBDB raw table and save it in a PyRate-compatible input file\n",
    "\n",
    "## 4. Use PyRate and R to define model, perform anaysis, and generate output files to plot and/or graph."
   ]
  },
  {
   "cell_type": "markdown",
   "metadata": {},
   "source": [
    "# Pseudocode for Data Manipulation\n",
    "\n",
    "### 1. Use tail, cut, sort, and uniq in the shell to find unique sea grass species and also find unique existence times (from max millions of years to min millions of years) within those unique species.\n",
    "#### 1a. Use for loop to write to correct columns in table in comma seaprated file\n",
    "### 2. Use tail, cut, sort, uniq, and grep in the shell to find still-existing sea grass species\n",
    "#### 2a. Use for loop to write to correct column in table in comma separated file\n",
    "\n"
   ]
  },
  {
   "cell_type": "code",
   "execution_count": null,
   "metadata": {
    "collapsed": true
   },
   "outputs": [],
   "source": []
  }
 ],
 "metadata": {
  "anaconda-cloud": {},
  "kernelspec": {
   "display_name": "Python [default]",
   "language": "python",
   "name": "python3"
  },
  "language_info": {
   "codemirror_mode": {
    "name": "ipython",
    "version": 3
   },
   "file_extension": ".py",
   "mimetype": "text/x-python",
   "name": "python",
   "nbconvert_exporter": "python",
   "pygments_lexer": "ipython3",
   "version": "3.5.2"
  }
 },
 "nbformat": 4,
 "nbformat_minor": 2
}
