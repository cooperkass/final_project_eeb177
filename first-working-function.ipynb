{
 "cells": [
  {
   "cell_type": "code",
   "execution_count": 2,
   "metadata": {
    "collapsed": true
   },
   "outputs": [],
   "source": [
    "## Could work for other, related data, if I decide to include another taxon\n",
    "def makeSpeciesList(filename):\n",
    "    # this function opens the sea grass data file and extracts\n",
    "    # the species name\n",
    "    SpeciesList = []\n",
    "    # open the file\n",
    "    species_object = open(filename, \"r\")\n",
    "    # read the file and save contents as a list\n",
    "    species_list = species_object.readlines()\n",
    "    for line in species_list:\n",
    "        species = line.split(\",\")[5]\n",
    "        # stick species into SpeciesList\n",
    "        SpeciesList.append(species)\n",
    "    return SpeciesList"
   ]
  },
  {
   "cell_type": "code",
   "execution_count": 3,
   "metadata": {
    "collapsed": false
   },
   "outputs": [
    {
     "data": {
      "text/plain": [
       "['\"Posidonia parisiensis\"',\n",
       " '\"Thalassodendron auriculaleporis\"',\n",
       " '\"Thalassodendron auriculaleporis\"',\n",
       " '\"Pennipollis peroreticulatus\"',\n",
       " '\"Posidonia oceanica\"',\n",
       " '\"Cymodocea floridana\"',\n",
       " '\"Heterozostera chilensis\"',\n",
       " '\"Heterozostera polychlamys\"',\n",
       " '\"Heterozostera nigricaulis\"',\n",
       " '\"Heterozostera tasmanica\"',\n",
       " '\"Posidonia parisiensis\"',\n",
       " '\"Posidonia parisiensis\"',\n",
       " '\"Posidonia parisiensis\"',\n",
       " '\"Posidonia parisiensis\"',\n",
       " '\"Posidonia parisiensis\"',\n",
       " '\"Zostera kiewiensis\"',\n",
       " '\"Posidonia cretacea\"',\n",
       " '\"Cymodocea serrulata\"',\n",
       " '\"Posidonia parisiensis\"',\n",
       " '\"Zostera nodosa\"',\n",
       " '\"Posidonia parisiensis\"',\n",
       " '\"Pennipollis reticulatus\"',\n",
       " '\"Pennipollis reticulatus\"',\n",
       " '\"Pennipollis reticulatus\"',\n",
       " '\"Pennipollis reticulatus\"',\n",
       " '\"Pennipollis reticulatus\"',\n",
       " '\"Pennipollis reticulatus\"',\n",
       " '\"Pennipollis reticulatus\"',\n",
       " '\"Pennipollis reticulatus\"',\n",
       " '\"Pennipollis reticulatus\"',\n",
       " '\"Pennipollis reticulatus\"',\n",
       " '\"Pennipollis reticulatus\"',\n",
       " '\"Pennipollis reticulatus\"',\n",
       " '\"Pennipollis peroreticulatus\"',\n",
       " '\"Pennipollis reticulatus\"',\n",
       " '\"Pennipollis peroreticulatus\"',\n",
       " '\"Pennipollis reticulatus\"',\n",
       " '\"Pennipollis peroreticulatus\"',\n",
       " '\"Pennipollis peroreticulatus\"',\n",
       " '\"Pennipollis peroreticulatus\"',\n",
       " '\"Pennipollis peroreticulatus\"',\n",
       " '\"Pennipollis peroreticulatus\"',\n",
       " '\"Pennipollis peroreticulatus\"',\n",
       " '\"Pennipollis peroreticulatus\"',\n",
       " '\"Pennipollis peroreticulatus\"',\n",
       " '\"Pennipollis peroreticulatus\"',\n",
       " '\"Pennipollis peroreticulatus\"',\n",
       " '\"Pennipollis peroreticulatus\"',\n",
       " '\"Pennipollis peroreticulatus\"',\n",
       " '\"Pennipollis peroreticulatus\"',\n",
       " '\"Pennipollis reticulatus\"',\n",
       " '\"Pennipollis reticulatus\"',\n",
       " '\"Pennipollis reticulatus\"',\n",
       " '\"Pennipollis reticulatus\"',\n",
       " '\"Pennipollis reticulatus\"',\n",
       " '\"Pennipollis reticulatus\"',\n",
       " '\"Pennipollis reticulatus\"',\n",
       " '\"Pennipollis reticulatus\"',\n",
       " '\"Pennipollis reticulatus\"',\n",
       " '\"Pennipollis reticulatus\"',\n",
       " '\"Pennipollis reticulatus\"',\n",
       " '\"Pennipollis reticulatus\"',\n",
       " '\"Pennipollis reticulatus\"',\n",
       " '\"Cymodocea maior\"',\n",
       " '\"Syringodium filiforme\"',\n",
       " '\"Archaeozostera lineata\"',\n",
       " '\"Archaeozostera longifolia\"',\n",
       " '\"Archaeozostera minor\"',\n",
       " '\"Archaeozostera pinnata\"',\n",
       " '\"Archaeozostera lineata\"',\n",
       " '\"Archaeozostera longifolia\"',\n",
       " '\"Archaeozostera minor\"',\n",
       " '\"Archaeozostera pinnata\"',\n",
       " '\"Archaeozostera lineata\"',\n",
       " '\"Archaeozostera longifolia\"',\n",
       " '\"Archaeozostera minor\"',\n",
       " '\"Archaeozostera pinnata\"',\n",
       " '\"Archaeozostera lineata\"',\n",
       " '\"Archaeozostera longifolia\"',\n",
       " '\"Archaeozostera minor\"',\n",
       " '\"Archaeozostera pinnata\"',\n",
       " '\"Archaeozostera lineata\"',\n",
       " '\"Archaeozostera minor\"',\n",
       " '\"Archaeozostera pinnata\"',\n",
       " '\"Archaeozostera lineata\"',\n",
       " '\"Archaeozostera longifolia\"',\n",
       " '\"Archaeozostera minor\"',\n",
       " '\"Archaeozostera pinnata\"',\n",
       " '\"Archaeozostera lineata\"',\n",
       " '\"Archaeozostera longifolia\"',\n",
       " '\"Archaeozostera minor\"',\n",
       " '\"Archaeozostera pinnata\"',\n",
       " '\"Archaeozostera lineata\"',\n",
       " '\"Archaeozostera longifolia\"',\n",
       " '\"Archaeozostera minor\"',\n",
       " '\"Archaeozostera pinnata\"',\n",
       " '\"Archaeozostera lineata\"',\n",
       " '\"Archaeozostera longifolia\"',\n",
       " '\"Archaeozostera minor\"',\n",
       " '\"Archaeozostera pinnata\"']"
      ]
     },
     "execution_count": 3,
     "metadata": {},
     "output_type": "execute_result"
    }
   ],
   "source": [
    "makeSpeciesList(\"sea_grass_no_headers.csv\")"
   ]
  },
  {
   "cell_type": "code",
   "execution_count": null,
   "metadata": {
    "collapsed": true
   },
   "outputs": [],
   "source": []
  }
 ],
 "metadata": {
  "anaconda-cloud": {},
  "kernelspec": {
   "display_name": "Python [default]",
   "language": "python",
   "name": "python3"
  },
  "language_info": {
   "codemirror_mode": {
    "name": "ipython",
    "version": 3
   },
   "file_extension": ".py",
   "mimetype": "text/x-python",
   "name": "python",
   "nbconvert_exporter": "python",
   "pygments_lexer": "ipython3",
   "version": "3.5.2"
  }
 },
 "nbformat": 4,
 "nbformat_minor": 2
}
