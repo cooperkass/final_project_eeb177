{
 "cells": [
  {
   "cell_type": "code",
   "execution_count": 1,
   "metadata": {
    "collapsed": true
   },
   "outputs": [],
   "source": [
    "## Could work for other, related data, if I decide to include another taxon\n",
    "def makeSpeciesDict(filename):\n",
    "    # this function opens the sea grass data file and extracts\n",
    "    # the species name and period of existence\n",
    "    SpeciesDict = {}\n",
    "    # open the file\n",
    "    species_object = open(filename, \"r\")\n",
    "    # read the file and save contents as a list\n",
    "    species_list = species_object.readlines()\n",
    "    for line in species_list:\n",
    "        species = line.split(\",\")[5]\n",
    "        period = line.split(\",\")[8]\n",
    "        # stick species and period into birdDict\n",
    "        SpeciesDict[species] = period\n",
    "    return SpeciesDict"
   ]
  },
  {
   "cell_type": "code",
   "execution_count": 3,
   "metadata": {
    "collapsed": false
   },
   "outputs": [
    {
     "data": {
      "text/plain": [
       "{'\"Archaeozostera lineata\"': '\"Late Cretaceous\"',\n",
       " '\"Archaeozostera longifolia\"': '\"Late Cretaceous\"',\n",
       " '\"Archaeozostera minor\"': '\"Late Cretaceous\"',\n",
       " '\"Archaeozostera pinnata\"': '\"Late Cretaceous\"',\n",
       " '\"Cymodocea floridana\"': '\"Middle Eocene\"',\n",
       " '\"Cymodocea maior\"': '\"Pliocene\"',\n",
       " '\"Cymodocea serrulata\"': '\"Miocene\"',\n",
       " '\"Heterozostera chilensis\"': '\"Holocene\"',\n",
       " '\"Heterozostera nigricaulis\"': '\"Holocene\"',\n",
       " '\"Heterozostera polychlamys\"': '\"Holocene\"',\n",
       " '\"Heterozostera tasmanica\"': '\"Holocene\"',\n",
       " '\"Pennipollis peroreticulatus\"': '\"Early Cenomanian\"',\n",
       " '\"Pennipollis reticulatus\"': '\"Early Cenomanian\"',\n",
       " '\"Posidonia cretacea\"': '\"Late Campanian\"',\n",
       " '\"Posidonia oceanica\"': '\"Early Pliocene\"',\n",
       " '\"Posidonia parisiensis\"': '\"Ypresian\"',\n",
       " '\"Syringodium filiforme\"': '\"Late Pleistocene\"',\n",
       " '\"Thalassodendron auriculaleporis\"': '\"Middle Eocene\"',\n",
       " '\"Zostera kiewiensis\"': '\"Eocene\"',\n",
       " '\"Zostera nodosa\"': '\"Paleocene\"'}"
      ]
     },
     "execution_count": 3,
     "metadata": {},
     "output_type": "execute_result"
    }
   ],
   "source": [
    "makeSpeciesDict(\"sea_grass_no_headers.csv\")"
   ]
  },
  {
   "cell_type": "code",
   "execution_count": null,
   "metadata": {
    "collapsed": true
   },
   "outputs": [],
   "source": []
  }
 ],
 "metadata": {
  "anaconda-cloud": {},
  "kernelspec": {
   "display_name": "Python [default]",
   "language": "python",
   "name": "python3"
  },
  "language_info": {
   "codemirror_mode": {
    "name": "ipython",
    "version": 3
   },
   "file_extension": ".py",
   "mimetype": "text/x-python",
   "name": "python",
   "nbconvert_exporter": "python",
   "pygments_lexer": "ipython3",
   "version": "3.5.2"
  }
 },
 "nbformat": 4,
 "nbformat_minor": 2
}
